{
 "cells": [
  {
   "cell_type": "markdown",
   "metadata": {},
   "source": [
    "# Combinar funciones (parte 2)\n",
    "\n",
    "En este curso no vamos a hacer proyectos con interfáces gráfica que utilicen a la rata peluda (el mouse), eso debido a que este tipo de desarrollo requiere aplicar un estilo de _programación por eventos_ que no vamos a ver en este curso. Sin embargo, si vamos a desarrollar interfáces de línea de comandos en modo texto y este cuaderno pretende ser una guía introductoria a cómo lograr este objetivo.\n",
    "\n",
    "### Interfaz de línea de comandos\n",
    "\n",
    "> _Command Line Interface_ (CLI) a diferencia de una _Graphical User Interface_ (GUI) se caracteríza por recibir las instrucciones del usuario a través de líneas de texto"
   ]
  },
  {
   "cell_type": "markdown",
   "metadata": {},
   "source": [
    "## El flujo de una interfaz de texto\n",
    "\n",
    "Usualmente se puede caracterizar el flujo de trabajo **principal** de una interfaz de texto con el siguiente algoritmo:\n",
    "\n",
    "1. ...\n",
    "2. Despliega las opciones disponibles.\n",
    "3. Solicita al usuario ingrese la opción seleccionada.\n",
    "4. Valida el dato ingresado al usuario\n",
    "5. Filtra y selecciona la acción correcta según la opción ( con if, elif, elif... else)\n",
    "\n",
    "    5.1 Ejecuta la acción seleccionada (si opción1: acción2 sino pregunto si opción2: acción2....)\n",
    "    \n",
    "    \n",
    "6. Regreso a 2\n",
    "\n",
    "---\n",
    "\n",
    "lo que quiere decir que el flujo principal se vería algo así:"
   ]
  },
  {
   "cell_type": "code",
   "execution_count": 16,
   "metadata": {},
   "outputs": [],
   "source": [
    "# Ejemplo de un flujo principal que no funciona pq todavía no esta listo.\n",
    "\n",
    "def main():\n",
    "    \n",
    "    imprimir_opciones()\n",
    "    print()\n",
    "    \n",
    "    opcion = capturar_opcion()\n",
    "    \n",
    "    # resultado = validar_opcion(opcion) \n",
    "    resultado = opcion  # Esto debería tener la forma de la línea anterior.\n",
    "    \n",
    "    if resultado == \"Error01\":\n",
    "        print(\"Ocurrió un error debido a x,y y z\")\n",
    "        return main()\n",
    "        \n",
    "    if resultado == \"1\":\n",
    "        accion1()\n",
    "    \n",
    "    elif resultado == \"2\":\n",
    "        accion2()\n",
    "        \n",
    "    else:\n",
    "        accion3()\n",
    "            \n",
    "    return main()\n"
   ]
  },
  {
   "cell_type": "markdown",
   "metadata": {},
   "source": [
    "OBVIAMENTE acá hacen falta cosas tons vamos a ir implementandolas\n",
    "\n",
    "----\n",
    "\n",
    "### imprimir opciones\n",
    "\n",
    "Esta es una función que tiene como función comunicarse con el usuario, hace una sola cosa, no tiene variantes y no tiene un valor de resultado."
   ]
  },
  {
   "cell_type": "code",
   "execution_count": 9,
   "metadata": {},
   "outputs": [
    {
     "name": "stdout",
     "output_type": "stream",
     "text": [
      "1. Opción 1\n",
      "2. Opción 2\n",
      "3. Opción 3\n",
      "\n"
     ]
    }
   ],
   "source": [
    "# Función que esta para mostrarle al usuario cuáles son sus opciones\n",
    "\n",
    "def imprimir_opciones():\n",
    "    \"\"\"\n",
    "    Imprime opciones en pantalla\n",
    "    \n",
    "    E: ninguna\n",
    "    S: ninguna\n",
    "    R: ninguna\n",
    "    \"\"\"\n",
    "    print(\"1. Opción 1\")\n",
    "    print(\"2. Opción 2\")\n",
    "    print(\"3. Opción 3\")\n",
    "    print() # Imprime una línea en blanco\n",
    "\n",
    "#Pruebas (siempre hay que probar TODA función que hagamos)\n",
    "imprimir_opciones()\n"
   ]
  },
  {
   "cell_type": "markdown",
   "metadata": {},
   "source": [
    "### Capturar opción\n",
    "\n",
    "para capturar la opción del usuario vamos a utilizar la función ```input``` la cuál es una función predefinida en python (ya viene con python... no hay que instalar nada)\n",
    "\n",
    "Esta función imprime un mensaje y se queda esperando a que el usuario ingrese un valor y presione la tecla ```[ENTER]```, luego la función retorna un **string**. Por ejemplo:\n",
    "\n",
    "```python\n",
    "\n",
    "texto_retornado = input(\"Ingrese la opción seleccionada: \")\n",
    "```\n",
    "\n",
    "Lo anterior imprime el texto que se envía de argumento a la función y lo imprime en pantalla y se queda esperando hasta que el usuario ingrese la tecla ENTER.\n",
    "\n",
    "----\n",
    "\n",
    "**Nota:** Es importante hacer notar que el usuario ingrese un valor correcto (siempre se debe dudar del usuario) y por lo tanto luego hay que revisar (validar) lo que ingresó el usuario."
   ]
  },
  {
   "cell_type": "code",
   "execution_count": 11,
   "metadata": {},
   "outputs": [
    {
     "name": "stdout",
     "output_type": "stream",
     "text": [
      "Por favor ingrese el número correspondiente a la opción que desea seleccionar: Telemacus\n",
      "Telemacus\n"
     ]
    }
   ],
   "source": [
    "# Función que recibe la entrada del usuario y retorna lo que devolvió... \n",
    "# esta función es pequeña, no tiene repetición ni entradas, pero la separamos\n",
    "# Para que se vea más ordenado todo.\n",
    "\n",
    "def capturar_opcion():\n",
    "    \"\"\"\n",
    "    Función que imprime un mensaje para solicitar al usuario ingrese un texto.\n",
    "    \n",
    "    E: ninguna\n",
    "    S: Texto ingresado por el usuario\n",
    "    R: ninguna\n",
    "    \"\"\"\n",
    "\n",
    "    # Recuerden que nuestro menú a la par de la opción imprime un número, la idea es que el \n",
    "    # usuario ingrese ese número (es más sencillo así)\n",
    "    texto = input(\"Por favor ingrese el número correspondiente a la opción que desea seleccionar: \")\n",
    "    \n",
    "    return texto\n",
    "\n",
    "# Pruebas (Siempre lo probamos TODO)\n",
    "opcion = capturar_opcion()\n",
    "print(opcion)"
   ]
  },
  {
   "cell_type": "markdown",
   "metadata": {},
   "source": [
    "**Nota:** El resultado de la función anterior se verá un poco distinto cuando lo ejecuten en desde una terminal que es donde en realidad lo estarémos utilizando \n",
    "\n",
    "### validar la opción\n",
    "\n",
    "Esto me lo voy a saltar por que va a ser más fácil verlo cuando ya hayamos visto la parte de listas. Pero, es básicamente una función que va por todo el texto, caracter por caracter para ver si el texto tiene la forma que ocupamos que tenga.\n",
    "\n",
    "\n",
    "### las acciones\n",
    "\n",
    "Estas son otras funciones que hacen cosas... Como en el caso de la conversión de grados.... Aunque en este ejemplo solo van a imprimir textos simples.\n"
   ]
  },
  {
   "cell_type": "code",
   "execution_count": 13,
   "metadata": {},
   "outputs": [
    {
     "name": "stdout",
     "output_type": "stream",
     "text": [
      "\n",
      "Ojo este toque!\n",
      "\n",
      "\n",
      "La esa cosa después de la comma, el end= de la línea anterior, hace que no se cambie de línea.\n",
      "\n",
      "Eso es conocido cómo un parámetro con nombre, y dice: \n",
      "Al parámetro de nombre 'end', pasele un texto vacío \n",
      "\n",
      "Elefantes!\n",
      "\n",
      "E invetiguen sobre algo que se llama 'ASCII ART'\n"
     ]
    }
   ],
   "source": [
    "# Acciones\n",
    "\n",
    "def accion1():\n",
    "    \"\"\"\n",
    "    E: no tiene pero podrían ser varias cosas calculadas o ingresadas\n",
    "       por el usuario\n",
    "    S: ninguna, solo voy a imprimir en pantalla\n",
    "    R: ninguna, pero depende de las entradas\n",
    "    \"\"\"\n",
    "    \n",
    "    print()\n",
    "    print(\"Ojo este \", end=\"\")\n",
    "    print(\"toque!\")\n",
    "    print()\n",
    "    \n",
    "\n",
    "def accion2():\n",
    "    \"\"\"\n",
    "    E: no tiene pero podrían ser varias cosas calculadas o ingresadas\n",
    "       por el usuario\n",
    "    S: ninguna, solo voy a imprimir en pantalla\n",
    "    R: ninguna, pero depende de las entradas\n",
    "    \"\"\"\n",
    "    \n",
    "    print()\n",
    "    print(\"La esa cosa después de la comma, \", end=\"\")\n",
    "    print(\"el end= de la línea anterior, hace que no se cambie de línea.\")\n",
    "    print()\n",
    "    print(\"Eso es conocido cómo un parámetro con nombre, y dice: \")\n",
    "    print(\"Al parámetro de nombre 'end', pasele un texto vacío \")\n",
    "    \n",
    "def accion3():\n",
    "    \"\"\"\n",
    "    E: ninguna\n",
    "    S: ninguna\n",
    "    R: ninguna\n",
    "    \"\"\"\n",
    "    \n",
    "    print()\n",
    "    print(\"Elefantes!\")\n",
    "    print()\n",
    "    print(\"E invetiguen sobre algo que se llama 'ASCII ART'\")\n",
    "    \n",
    "    \n",
    "# Pruebas (Sí, hasta esto lo probamos)\n",
    "\n",
    "accion1()\n",
    "accion2()\n",
    "accion3()\n",
    "    "
   ]
  },
  {
   "cell_type": "markdown",
   "metadata": {},
   "source": [
    "### Finalmente lo probamos todo junto\n"
   ]
  },
  {
   "cell_type": "code",
   "execution_count": null,
   "metadata": {},
   "outputs": [
    {
     "name": "stdout",
     "output_type": "stream",
     "text": [
      "1. Opción 1\n",
      "2. Opción 2\n",
      "3. Opción 3\n",
      "\n",
      "\n",
      "Por favor ingrese el número correspondiente a la opción que desea seleccionar: telemacus\n",
      "\n",
      "Elefantes!\n",
      "\n",
      "E invetiguen sobre algo que se llama 'ASCII ART'\n",
      "1. Opción 1\n",
      "2. Opción 2\n",
      "3. Opción 3\n",
      "\n",
      "\n"
     ]
    }
   ],
   "source": [
    "main()\n"
   ]
  },
  {
   "cell_type": "markdown",
   "metadata": {},
   "source": [
    "**Nota:** Esto en una terminal se va a ver mucho mejor... así que copien todas las funciones a un archivo .py y ejecutenlo desde ahí.\n",
    "\n",
    "Por último, ingresen valores que no corresponden a opciones en lo que les pide la aplicación y así entendemos por que es importante validar las entradas.\n",
    "\n",
    "```\n",
    "  ,,,\n",
    "d[-_-]b\n",
    "```"
   ]
  }
 ],
 "metadata": {
  "kernelspec": {
   "display_name": "Python 3 (ipykernel)",
   "language": "python",
   "name": "python3"
  },
  "language_info": {
   "codemirror_mode": {
    "name": "ipython",
    "version": 3
   },
   "file_extension": ".py",
   "mimetype": "text/x-python",
   "name": "python",
   "nbconvert_exporter": "python",
   "pygments_lexer": "ipython3",
   "version": "3.9.7"
  }
 },
 "nbformat": 4,
 "nbformat_minor": 4
}
