{
 "cells": [
  {
   "cell_type": "markdown",
   "metadata": {},
   "source": [
    "# Los cuadernos de Jupyter\n",
    "\n",
    "Los cuadernos de Jupyter (_Jupyter notebooks_) son documentos interactivos que pueden ser interpretados tanto por seres humanos como por python. Esta herramienta se a vuelto popular en la comunidad científica debido a que permite integrar el análisis, descripción, resultados (incluyendo imágenes, tablas o gráficos) así como código que permita ejecutar análisis de datos.\n",
    "\n",
    "Se recomienda instalar los cuadernos de Jupyter mediante la distribución anaconda. Sin embargo, nosotros vamos a utilizar la versión más básica de estos y vamos a ir integrando nuevas herramientas paso a paso.\n",
    "\n",
    "__Nota:__ Actualmente estas leyendo la vizualización de gitlab de un cuaderno, en los siguientes pasos vamos a instalar y ejecutar algunas pruebas sobre los cuadernos y como los usamos en el grupo de investigación [TECU](http://tecu.gitlab.io)"
   ]
  },
  {
   "cell_type": "markdown",
   "metadata": {},
   "source": [
    "# Instrucciones de instalación\n",
    "\n",
    "Para instalar los _Cuadernos de Jupyter_ se requiere de instalar _python3_ y _pip3_ utilizando para esto el superusuario\n",
    "\n",
    "```bash\n",
    "# apt-get install python3\n",
    "# apt-get install pip3\n",
    "```\n",
    "\n",
    "Para luego utilizar _pip3_ para instalar los cuadernos de jupyter con el siguiente comando:\n",
    "\n",
    "```bash \n",
    "# pip3 install jupyter\n",
    "```\n",
    "\n",
    "__Nota:__ Noté que «Ju __py__ ter» se escribe así por haberse diseñado incialmente para su uso con python, aunque existen mecanísmos para utilizarlo con otros lenguajes de programación."
   ]
  },
  {
   "cell_type": "markdown",
   "metadata": {},
   "source": [
    "# Copiar este cuaderno a la computadora (Esta sección no)\n",
    "\n",
    "\n",
    "Este cuaderno reside en el git del grupo de investigación TECU, pero para poder usar la versión real debemos copiarlo a nuestras computadoras. Para esto ejecutamos el siguiente comando desde la terminal:\n",
    "\n",
    "```bash\n",
    "$ git clone https://gitlab.com/tecu/Administrativos\n",
    "```\n",
    "\n",
    "Esto crea una carpeta de nombre _Administrativos_ nos pasamos a esta carpeta:\n",
    "\n",
    "```bash\n",
    "$ cd Administrativos/lecciones/cuadernos\n",
    "```\n",
    "\n",
    "y ejecutamos los cuadernos:\n",
    "\n",
    "```bash\n",
    "$ jupyter notebooks\n",
    "```\n",
    "\n",
    "Y ¡tadaaaaan! esto nos da una link en la terminal que copiamos y pegamos en el navegador. Esto nos abre la aplicación web de los cuadernos que nos seleccionar uno de los múltiples cuadernos que existen en esta carpeta.\n",
    "\n",
    "permite vizualizar e interactuar con el contenido, cambiandolo, ejecutandolo y aprendiendo mediante el travesar."
   ]
  },
  {
   "cell_type": "markdown",
   "metadata": {},
   "source": [
    "# Usar los cuadernos\n",
    "\n",
    "Hay muchos conceptos relacionados a los cuadernos. Pero, como es de esperar solo vamos a mencionar uno:\n",
    "\n",
    "Las __celdas__ son bloques que pueden ser de dos tipos: \n",
    "\n",
    "1. De texto markdown\n",
    "1. De código que se puede ejecutar\n",
    "\n",
    "Cada bloque se puede evaluar de forma independiente presionando ```CRTL+Enter``` o todos juntos con el botón ```>| RUN``` en la barra de herramientas\n",
    "\n",
    "__NOTA:__ \n",
    "* Todos los bloques vistos hasta ahora son bloques de texto tipo markdown\n",
    "* La siguiente es una celda tipo código de python3"
   ]
  },
  {
   "cell_type": "markdown",
   "metadata": {},
   "source": [
    "El siguiente es un bloque de código con el ejemplo más básico que puede existir\n"
   ]
  },
  {
   "cell_type": "code",
   "execution_count": 1,
   "metadata": {},
   "outputs": [
    {
     "name": "stdout",
     "output_type": "stream",
     "text": [
      "Hola mundo cruel!\n"
     ]
    }
   ],
   "source": [
    "\n",
    "print(\"Hola mundo cruel!\")\n",
    "\n",
    "#La respuesta al código ejecutado aparecerá acá abajo-v-"
   ]
  },
  {
   "cell_type": "markdown",
   "metadata": {},
   "source": [
    "En los bloques de código puedo usar bibliotecas:"
   ]
  },
  {
   "cell_type": "code",
   "execution_count": 5,
   "metadata": {},
   "outputs": [
    {
     "name": "stdout",
     "output_type": "stream",
     "text": [
      "Este es el número aleatorio:  0.8746702076166035\n"
     ]
    }
   ],
   "source": [
    "import random\n",
    "\n",
    "numero_aleatorio = random.random()\n",
    "\n",
    "print(\"Este es el número aleatorio: \", numero_aleatorio)"
   ]
  },
  {
   "cell_type": "markdown",
   "metadata": {},
   "source": [
    " Las bibliotecas importadas en una celda siguen importadas en la celdas posteriores (Al igual que las variables)"
   ]
  },
  {
   "cell_type": "code",
   "execution_count": 6,
   "metadata": {},
   "outputs": [
    {
     "name": "stdout",
     "output_type": "stream",
     "text": [
      "Estos son aleatorios:  0.8746702076166035 0.9671892260283743\n"
     ]
    }
   ],
   "source": [
    "segundo_numero_aleatorio = random.random()\n",
    "\n",
    "print(\"Estos son aleatorios: \", numero_aleatorio, segundo_numero_aleatorio)\n"
   ]
  },
  {
   "cell_type": "markdown",
   "metadata": {},
   "source": [
    "Listo!, eso es todo __¡por ahora!__"
   ]
  }
 ],
 "metadata": {
  "kernelspec": {
   "display_name": "Python 3 (ipykernel)",
   "language": "python",
   "name": "python3"
  },
  "language_info": {
   "codemirror_mode": {
    "name": "ipython",
    "version": 3
   },
   "file_extension": ".py",
   "mimetype": "text/x-python",
   "name": "python",
   "nbconvert_exporter": "python",
   "pygments_lexer": "ipython3",
   "version": "3.9.5"
  }
 },
 "nbformat": 4,
 "nbformat_minor": 2
}
